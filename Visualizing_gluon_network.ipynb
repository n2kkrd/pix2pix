{
 "cells": [
  {
   "cell_type": "code",
   "execution_count": 59,
   "metadata": {},
   "outputs": [],
   "source": [
    "import mxnet as mx\n",
    "from network.gluon_pix2pix_modules import UnetGenerator"
   ]
  },
  {
   "cell_type": "code",
   "execution_count": 60,
   "metadata": {},
   "outputs": [],
   "source": [
    "ctx = mx.cpu()"
   ]
  },
  {
   "cell_type": "code",
   "execution_count": 61,
   "metadata": {},
   "outputs": [],
   "source": [
    "def load_generator_from_checkpoint(position):\n",
    "    filename_net_g = \"netG{}\".format(position)\n",
    "    net_g = UnetGenerator(in_channels=1, num_downs=8, final_out=2) # 2 channels, a and b - for colorization\n",
    "    net_g.load_params(filename_net_g, ctx=ctx)\n",
    "    net_g.hybridize()\n",
    "    return net_g"
   ]
  },
  {
   "cell_type": "code",
   "execution_count": 62,
   "metadata": {},
   "outputs": [],
   "source": [
    "model = load_generator_from_checkpoint(100)"
   ]
  },
  {
   "cell_type": "code",
   "execution_count": 63,
   "metadata": {},
   "outputs": [
    {
     "data": {
      "text/plain": [
       "'plot.gv.pdf'"
      ]
     },
     "execution_count": 63,
     "metadata": {},
     "output_type": "execute_result"
    }
   ],
   "source": [
    "model.collect_params().initialize(force_reinit=True)\n",
    "x = mx.sym.var('data')\n",
    "sym = model(x)\n",
    "network_graph = mx.viz.plot_network(sym, \n",
    "                                    save_format='pdf', \n",
    "                                    shape={\"data\":(1, 1, 256, 256)}, \n",
    "                                    node_attrs={\"shape\":'rect',\"fixedsize\":'false'}\n",
    "                                   )\n",
    "network_graph.render()"
   ]
  }
 ],
 "metadata": {
  "kernelspec": {
   "display_name": "Python 3",
   "language": "python",
   "name": "python3"
  },
  "language_info": {
   "codemirror_mode": {
    "name": "ipython",
    "version": 3
   },
   "file_extension": ".py",
   "mimetype": "text/x-python",
   "name": "python",
   "nbconvert_exporter": "python",
   "pygments_lexer": "ipython3",
   "version": "3.6.4"
  }
 },
 "nbformat": 4,
 "nbformat_minor": 2
}
